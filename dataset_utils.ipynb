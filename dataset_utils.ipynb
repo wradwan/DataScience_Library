{
 "cells": [
  {
   "cell_type": "markdown",
   "metadata": {},
   "source": [
    "# DataSet Preparation Utils \n",
    "by Wael Radwan"
   ]
  },
  {
   "cell_type": "markdown",
   "metadata": {},
   "source": [
    "###### Library used to prepare datasets from data\n",
    "continans various tools to prepare the training dataset and testing dataset\n",
    "- mainly used to randomize files of the dataset \n",
    "- divide the dataset into traininig and testing dataset \n",
    "- randomize the test files "
   ]
  },
  {
   "cell_type": "code",
   "execution_count": 1,
   "metadata": {
    "ExecuteTime": {
     "end_time": "2018-04-11T11:01:39.936776Z",
     "start_time": "2018-04-11T11:01:39.551393Z"
    }
   },
   "outputs": [],
   "source": [
    "import os\n",
    "import re\n",
    "import random\n",
    "import ntpath\n",
    "import shutil\n",
    "import pandas as pd"
   ]
  },
  {
   "cell_type": "markdown",
   "metadata": {},
   "source": [
    "##### Rename list of files in directory with seq"
   ]
  },
  {
   "cell_type": "code",
   "execution_count": null,
   "metadata": {
    "ExecuteTime": {
     "end_time": "2018-04-10T02:21:39.059901Z",
     "start_time": "2018-04-10T02:21:39.048194Z"
    }
   },
   "outputs": [],
   "source": [
    "def rename_files_dir_to_seq(path):\n",
    "    files = os.listdir(path)\n",
    "    i = 1\n",
    "    for file in files:\n",
    "        orig_file_name = os.path.join(path, file)\n",
    "        # \n",
    "        # extract file extention\n",
    "        filename, file_extension = os.path.splitext(file)\n",
    "        # create Seq number \n",
    "        seq_num  = str(i).zfill(3)\n",
    "        new_file_name = os.path.join(path, seq_num +file_extension)\n",
    "        #print(orig_file_name)\n",
    "        #print(new_file_name)\n",
    "        os.rename(orig_file_name, new_file_name)\n",
    "        i = i+1\n",
    "    return"
   ]
  },
  {
   "cell_type": "code",
   "execution_count": null,
   "metadata": {
    "ExecuteTime": {
     "end_time": "2018-04-03T08:11:50.229472Z",
     "start_time": "2018-04-03T08:11:50.226061Z"
    }
   },
   "outputs": [],
   "source": [
    "path = '/ds/dataset/quran/999'\n",
    "rename_files_dir_to_seq(path)"
   ]
  },
  {
   "cell_type": "markdown",
   "metadata": {},
   "source": [
    "##### list all directories and rename all files to a sequenced files"
   ]
  },
  {
   "cell_type": "code",
   "execution_count": null,
   "metadata": {
    "ExecuteTime": {
     "end_time": "2018-04-03T08:27:51.428666Z",
     "start_time": "2018-04-03T08:27:51.229799Z"
    }
   },
   "outputs": [],
   "source": [
    "result = []\n",
    "myrootdir = '/ds/dataset/quran'\n",
    "reg_compile = re.compile(\"1\")\n",
    "for dirpath, dirnames, filenames in os.walk(myrootdir):\n",
    "    result = result + [dirname for dirname in dirnames if  reg_compile.match(dirname)]\n",
    "for dir in sorted(result):\n",
    "    print (myrootdir+'/'+dir)\n",
    "    rename_files_dir_to_seq(myrootdir+'/'+dir)"
   ]
  },
  {
   "cell_type": "markdown",
   "metadata": {},
   "source": [
    "###### Rename list of files in directory with seq with randomization\n",
    "here the list of files are randomized in order to prevent overfitting "
   ]
  },
  {
   "cell_type": "code",
   "execution_count": null,
   "metadata": {},
   "outputs": [],
   "source": [
    "def rename_files_dir_to_seq_with_random(path):\n",
    "    files = os.listdir(path)\n",
    "    random.shuffle(files)\n",
    "    i = 1\n",
    "    for file in files:\n",
    "        orig_file_name = os.path.join(path, file)\n",
    "        # \n",
    "        # extract file extention\n",
    "        filename, file_extension = os.path.splitext(file)\n",
    "        # create Seq number \n",
    "        seq_num  = str(i).zfill(3)\n",
    "        new_file_name = os.path.join(path, seq_num +'_tmp'+file_extension)\n",
    "        print(orig_file_name)\n",
    "        print(new_file_name)\n",
    "        os.rename(orig_file_name, new_file_name)\n",
    "        i = i+1\n",
    "    return"
   ]
  },
  {
   "cell_type": "code",
   "execution_count": null,
   "metadata": {},
   "outputs": [],
   "source": [
    "path = '/ds/dataset/quran/999'\n",
    "rename_files_dir_to_seq_with_random(path)"
   ]
  },
  {
   "cell_type": "markdown",
   "metadata": {},
   "source": [
    "###### in the below lines\n",
    "we will randomize the files in each directory in order to avoid overfitting"
   ]
  },
  {
   "cell_type": "code",
   "execution_count": null,
   "metadata": {},
   "outputs": [],
   "source": [
    "result = []\n",
    "myrootdir = '/ds/dataset/quran'\n",
    "reg_compile = re.compile(\"1\")\n",
    "for dirpath, dirnames, filenames in os.walk(myrootdir):\n",
    "    result = result + [dirname for dirname in dirnames if  reg_compile.match(dirname)]\n",
    "for dir in sorted(result):\n",
    "    print (myrootdir+'/'+dir)\n",
    "    rename_files_dir_to_seq_with_random(myrootdir+'/'+dir)\n",
    "    rename_files_dir_to_seq(myrootdir+'/'+dir)"
   ]
  },
  {
   "cell_type": "code",
   "execution_count": null,
   "metadata": {},
   "outputs": [],
   "source": []
  },
  {
   "cell_type": "markdown",
   "metadata": {},
   "source": [
    "##### prepare test data\n",
    "copy all files that have name > 400 \n",
    "then rename it with dir_name (class_name) followed by file name"
   ]
  },
  {
   "cell_type": "code",
   "execution_count": 3,
   "metadata": {
    "ExecuteTime": {
     "end_time": "2018-04-11T11:07:59.824769Z",
     "start_time": "2018-04-11T11:07:59.816044Z"
    }
   },
   "outputs": [],
   "source": [
    "def list_files_dir_to_seq( path, new_path):\n",
    "    files = sorted(os.listdir(path))\n",
    "    dir_name = ntpath.basename(path)\n",
    "    random.shuffle(files)\n",
    "    print(dir_name)\n",
    "    i = 1\n",
    "    for file in files:\n",
    "        orig_file_name = os.path.join(path, file)\n",
    "        # \n",
    "        # extract file extention\n",
    "        filename, file_extension = os.path.splitext(file)\n",
    "        # create Seq number \n",
    "        #seq_num  = str(i).zfill(3)\n",
    "        #new_file_name = os.path.join(path, seq_num +'_tmp'+file_extension)\n",
    "        if (int(filename)>=400 ):\n",
    "            print(orig_file_name)\n",
    "            new_file_name = os.path.join(new_path, dir_name+'_' + filename + file_extension)\n",
    "            print(new_file_name)\n",
    "            shutil.copy(orig_file_name, new_file_name)\n",
    "        #os.rename(orig_file_name, new_file_name)\n",
    "        i = i+1\n",
    "    return"
   ]
  },
  {
   "cell_type": "code",
   "execution_count": null,
   "metadata": {},
   "outputs": [],
   "source": [
    "result = []\n",
    "myrootdir = '/ds/dataset/quran'\n",
    "\n",
    "new_path = '/ds/dataset/quran/test'\n",
    "\n",
    "reg_compile = re.compile(\"1\")\n",
    "for dirpath, dirnames, filenames in os.walk(myrootdir):\n",
    "    result = result + [dirname for dirname in dirnames if  reg_compile.match(dirname)]\n",
    "for dir in sorted(result):\n",
    "    #print (myrootdir+'/'+dir)\n",
    "    list_files_dir_to_seq(myrootdir+'/'+dir,new_path)\n",
    "    #divide_data_into_test_train( path, train_test, test_path)"
   ]
  },
  {
   "cell_type": "markdown",
   "metadata": {},
   "source": [
    "#### prepare test data\n",
    "copy all files that have name > 400 then rename it with dir_name (class_name) followed by file name\n",
    "the original dataset should resides in the following format \n",
    "dataset: (path)\n",
    "    class1\n",
    "        001.mp3\n",
    "        002.mp3\n",
    "        .\n",
    "        .\n",
    "     class2\n",
    "        001.mp3\n",
    "        002.mp3\n",
    "        .\n",
    "        .\n",
    "        ..\n",
    "        \n",
    "and it will be moved to train and test path\n",
    "train_path\n",
    "    class1_001.mp3\n",
    "    class1_002.mp3\n",
    "    .\n",
    "    .\n",
    "    .\n",
    "test_path \n",
    "    class1_400.mp3 <--- depends on the number of files for eachyou want to keep in the train per\n",
    "    class1_401.mp3\n",
    "    .\n",
    "    .\n",
    "    .\n",
    "    \n",
    "    "
   ]
  },
  {
   "cell_type": "code",
   "execution_count": 17,
   "metadata": {
    "ExecuteTime": {
     "end_time": "2018-04-11T11:18:51.420974Z",
     "start_time": "2018-04-11T11:18:51.415750Z"
    }
   },
   "outputs": [],
   "source": [
    "def divide_data_into_test_train( path, train_test, test_path):\n",
    "    files = sorted(os.listdir(path))\n",
    "    dir_name = ntpath.basename(path)\n",
    "    random.shuffle(files)\n",
    "    print(dir_name)\n",
    "    i = 1\n",
    "    for file in files:\n",
    "        orig_file_name = os.path.join(path, file)\n",
    "        # \n",
    "        # extract file extention\n",
    "        filename, file_extension = os.path.splitext(file)\n",
    "        # create Seq number \n",
    "        #seq_num  = str(i).zfill(3)\n",
    "        #new_file_name = os.path.join(path, seq_num +'_tmp'+file_extension)\n",
    "        if (int(filename)<=400 ):\n",
    "            new_file_name = os.path.join(train_test, dir_name+'_' + filename + file_extension)\n",
    "        else :\n",
    "            new_file_name = os.path.join(test_path, dir_name+'_' + filename + file_extension)\n",
    "\n",
    "        print(\"Copy %s to %s\" % (orig_file_name,new_file_name))\n",
    "        #shutil.copy(orig_file_name, new_file_name)\n",
    "        #os.rename(orig_file_name, new_file_name)\n",
    "        i = i+1\n",
    "    return"
   ]
  },
  {
   "cell_type": "code",
   "execution_count": 18,
   "metadata": {
    "ExecuteTime": {
     "end_time": "2018-04-11T11:18:53.089896Z",
     "start_time": "2018-04-11T11:18:53.055322Z"
    }
   },
   "outputs": [
    {
     "name": "stdout",
     "output_type": "stream",
     "text": [
      "100\n",
      "Copy /ds/dataset/quran/100/244.mp3 to /ds/dataset/quran/train/100_244.mp3\n",
      "Copy /ds/dataset/quran/100/341.mp3 to /ds/dataset/quran/train/100_341.mp3\n",
      "Copy /ds/dataset/quran/100/469.mp3 to /ds/dataset/quran/test/100_469.mp3\n",
      "Copy /ds/dataset/quran/100/002.mp3 to /ds/dataset/quran/train/100_002.mp3\n",
      "Copy /ds/dataset/quran/100/366.mp3 to /ds/dataset/quran/train/100_366.mp3\n",
      "Copy /ds/dataset/quran/100/057.MP3 to /ds/dataset/quran/train/100_057.MP3\n",
      "Copy /ds/dataset/quran/100/277.mp3 to /ds/dataset/quran/train/100_277.mp3\n",
      "Copy /ds/dataset/quran/100/183.mp3 to /ds/dataset/quran/train/100_183.mp3\n",
      "Copy /ds/dataset/quran/100/378.mp3 to /ds/dataset/quran/train/100_378.mp3\n",
      "Copy /ds/dataset/quran/100/286.mp3 to /ds/dataset/quran/train/100_286.mp3\n",
      "Copy /ds/dataset/quran/100/040.mp3 to /ds/dataset/quran/train/100_040.mp3\n",
      "Copy /ds/dataset/quran/100/374.mp3 to /ds/dataset/quran/train/100_374.mp3\n",
      "Copy /ds/dataset/quran/100/455.mp3 to /ds/dataset/quran/test/100_455.mp3\n",
      "Copy /ds/dataset/quran/100/029.mp3 to /ds/dataset/quran/train/100_029.mp3\n",
      "Copy /ds/dataset/quran/100/164.mp3 to /ds/dataset/quran/train/100_164.mp3\n",
      "Copy /ds/dataset/quran/100/072.mp3 to /ds/dataset/quran/train/100_072.mp3\n",
      "Copy /ds/dataset/quran/100/456.mp3 to /ds/dataset/quran/test/100_456.mp3\n",
      "Copy /ds/dataset/quran/100/279.mp3 to /ds/dataset/quran/train/100_279.mp3\n",
      "Copy /ds/dataset/quran/100/252.mp3 to /ds/dataset/quran/train/100_252.mp3\n",
      "Copy /ds/dataset/quran/100/263.mp3 to /ds/dataset/quran/train/100_263.mp3\n",
      "Copy /ds/dataset/quran/100/361.mp3 to /ds/dataset/quran/train/100_361.mp3\n",
      "Copy /ds/dataset/quran/100/205.mp3 to /ds/dataset/quran/train/100_205.mp3\n",
      "Copy /ds/dataset/quran/100/140.mp3 to /ds/dataset/quran/train/100_140.mp3\n",
      "Copy /ds/dataset/quran/100/255.mp3 to /ds/dataset/quran/train/100_255.mp3\n",
      "Copy /ds/dataset/quran/100/471.mp3 to /ds/dataset/quran/test/100_471.mp3\n",
      "Copy /ds/dataset/quran/100/274.mp3 to /ds/dataset/quran/train/100_274.mp3\n",
      "Copy /ds/dataset/quran/100/415.mp3 to /ds/dataset/quran/test/100_415.mp3\n",
      "Copy /ds/dataset/quran/100/253.mp3 to /ds/dataset/quran/train/100_253.mp3\n",
      "Copy /ds/dataset/quran/100/135.mp3 to /ds/dataset/quran/train/100_135.mp3\n",
      "Copy /ds/dataset/quran/100/311.mp3 to /ds/dataset/quran/train/100_311.mp3\n",
      "Copy /ds/dataset/quran/100/051.mp3 to /ds/dataset/quran/train/100_051.mp3\n",
      "Copy /ds/dataset/quran/100/301.mp3 to /ds/dataset/quran/train/100_301.mp3\n",
      "Copy /ds/dataset/quran/100/175.mp3 to /ds/dataset/quran/train/100_175.mp3\n",
      "Copy /ds/dataset/quran/100/322.mp3 to /ds/dataset/quran/train/100_322.mp3\n",
      "Copy /ds/dataset/quran/100/420.mp3 to /ds/dataset/quran/test/100_420.mp3\n",
      "Copy /ds/dataset/quran/100/090.mp3 to /ds/dataset/quran/train/100_090.mp3\n",
      "Copy /ds/dataset/quran/100/066.mp3 to /ds/dataset/quran/train/100_066.mp3\n",
      "Copy /ds/dataset/quran/100/398.mp3 to /ds/dataset/quran/train/100_398.mp3\n",
      "Copy /ds/dataset/quran/100/474.mp3 to /ds/dataset/quran/test/100_474.mp3\n",
      "Copy /ds/dataset/quran/100/429.mp3 to /ds/dataset/quran/test/100_429.mp3\n",
      "Copy /ds/dataset/quran/100/024.mp3 to /ds/dataset/quran/train/100_024.mp3\n",
      "Copy /ds/dataset/quran/100/106.mp3 to /ds/dataset/quran/train/100_106.mp3\n",
      "Copy /ds/dataset/quran/100/317.mp3 to /ds/dataset/quran/train/100_317.mp3\n",
      "Copy /ds/dataset/quran/100/243.mp3 to /ds/dataset/quran/train/100_243.mp3\n",
      "Copy /ds/dataset/quran/100/103.mp3 to /ds/dataset/quran/train/100_103.mp3\n",
      "Copy /ds/dataset/quran/100/368.mp3 to /ds/dataset/quran/train/100_368.mp3\n",
      "Copy /ds/dataset/quran/100/337.mp3 to /ds/dataset/quran/train/100_337.mp3\n",
      "Copy /ds/dataset/quran/100/416.mp3 to /ds/dataset/quran/test/100_416.mp3\n",
      "Copy /ds/dataset/quran/100/461.mp3 to /ds/dataset/quran/test/100_461.mp3\n",
      "Copy /ds/dataset/quran/100/220.mp3 to /ds/dataset/quran/train/100_220.mp3\n",
      "Copy /ds/dataset/quran/100/046.mp3 to /ds/dataset/quran/train/100_046.mp3\n",
      "Copy /ds/dataset/quran/100/019.mp3 to /ds/dataset/quran/train/100_019.mp3\n",
      "Copy /ds/dataset/quran/100/028.mp3 to /ds/dataset/quran/train/100_028.mp3\n",
      "Copy /ds/dataset/quran/100/123.mp3 to /ds/dataset/quran/train/100_123.mp3\n",
      "Copy /ds/dataset/quran/100/375.mp3 to /ds/dataset/quran/train/100_375.mp3\n",
      "Copy /ds/dataset/quran/100/383.mp3 to /ds/dataset/quran/train/100_383.mp3\n",
      "Copy /ds/dataset/quran/100/172.mp3 to /ds/dataset/quran/train/100_172.mp3\n",
      "Copy /ds/dataset/quran/100/155.mp3 to /ds/dataset/quran/train/100_155.mp3\n",
      "Copy /ds/dataset/quran/100/438.mp3 to /ds/dataset/quran/test/100_438.mp3\n",
      "Copy /ds/dataset/quran/100/143.mp3 to /ds/dataset/quran/train/100_143.mp3\n",
      "Copy /ds/dataset/quran/100/343.mp3 to /ds/dataset/quran/train/100_343.mp3\n",
      "Copy /ds/dataset/quran/100/093.mp3 to /ds/dataset/quran/train/100_093.mp3\n",
      "Copy /ds/dataset/quran/100/399.mp3 to /ds/dataset/quran/train/100_399.mp3\n",
      "Copy /ds/dataset/quran/100/020.mp3 to /ds/dataset/quran/train/100_020.mp3\n",
      "Copy /ds/dataset/quran/100/452.mp3 to /ds/dataset/quran/test/100_452.mp3\n",
      "Copy /ds/dataset/quran/100/171.mp3 to /ds/dataset/quran/train/100_171.mp3\n",
      "Copy /ds/dataset/quran/100/159.mp3 to /ds/dataset/quran/train/100_159.mp3\n",
      "Copy /ds/dataset/quran/100/436.mp3 to /ds/dataset/quran/test/100_436.mp3\n",
      "Copy /ds/dataset/quran/100/292.mp3 to /ds/dataset/quran/train/100_292.mp3\n",
      "Copy /ds/dataset/quran/100/380.mp3 to /ds/dataset/quran/train/100_380.mp3\n",
      "Copy /ds/dataset/quran/100/158.mp3 to /ds/dataset/quran/train/100_158.mp3\n",
      "Copy /ds/dataset/quran/100/254.mp3 to /ds/dataset/quran/train/100_254.mp3\n",
      "Copy /ds/dataset/quran/100/419.mp3 to /ds/dataset/quran/test/100_419.mp3\n",
      "Copy /ds/dataset/quran/100/167.mp3 to /ds/dataset/quran/train/100_167.mp3\n",
      "Copy /ds/dataset/quran/100/258.mp3 to /ds/dataset/quran/train/100_258.mp3\n",
      "Copy /ds/dataset/quran/100/395.mp3 to /ds/dataset/quran/train/100_395.mp3\n",
      "Copy /ds/dataset/quran/100/424.mp3 to /ds/dataset/quran/test/100_424.mp3\n",
      "Copy /ds/dataset/quran/100/023.mp3 to /ds/dataset/quran/train/100_023.mp3\n",
      "Copy /ds/dataset/quran/100/234.mp3 to /ds/dataset/quran/train/100_234.mp3\n",
      "Copy /ds/dataset/quran/100/087.mp3 to /ds/dataset/quran/train/100_087.mp3\n",
      "Copy /ds/dataset/quran/100/460.mp3 to /ds/dataset/quran/test/100_460.mp3\n",
      "Copy /ds/dataset/quran/100/453.mp3 to /ds/dataset/quran/test/100_453.mp3\n",
      "Copy /ds/dataset/quran/100/052.mp3 to /ds/dataset/quran/train/100_052.mp3\n",
      "Copy /ds/dataset/quran/100/248.mp3 to /ds/dataset/quran/train/100_248.mp3\n",
      "Copy /ds/dataset/quran/100/281.mp3 to /ds/dataset/quran/train/100_281.mp3\n",
      "Copy /ds/dataset/quran/100/094.mp3 to /ds/dataset/quran/train/100_094.mp3\n",
      "Copy /ds/dataset/quran/100/312.mp3 to /ds/dataset/quran/train/100_312.mp3\n",
      "Copy /ds/dataset/quran/100/288.mp3 to /ds/dataset/quran/train/100_288.mp3\n",
      "Copy /ds/dataset/quran/100/237.mp3 to /ds/dataset/quran/train/100_237.mp3\n",
      "Copy /ds/dataset/quran/100/148.mp3 to /ds/dataset/quran/train/100_148.mp3\n",
      "Copy /ds/dataset/quran/100/264.mp3 to /ds/dataset/quran/train/100_264.mp3\n",
      "Copy /ds/dataset/quran/100/126.mp3 to /ds/dataset/quran/train/100_126.mp3\n",
      "Copy /ds/dataset/quran/100/013.mp3 to /ds/dataset/quran/train/100_013.mp3\n",
      "Copy /ds/dataset/quran/100/305.mp3 to /ds/dataset/quran/train/100_305.mp3\n",
      "Copy /ds/dataset/quran/100/219.mp3 to /ds/dataset/quran/train/100_219.mp3\n",
      "Copy /ds/dataset/quran/100/206.mp3 to /ds/dataset/quran/train/100_206.mp3\n",
      "Copy /ds/dataset/quran/100/035.mp3 to /ds/dataset/quran/train/100_035.mp3\n",
      "Copy /ds/dataset/quran/100/227.mp3 to /ds/dataset/quran/train/100_227.mp3\n",
      "Copy /ds/dataset/quran/100/385.mp3 to /ds/dataset/quran/train/100_385.mp3\n",
      "Copy /ds/dataset/quran/100/134.mp3 to /ds/dataset/quran/train/100_134.mp3\n",
      "Copy /ds/dataset/quran/100/316.mp3 to /ds/dataset/quran/train/100_316.mp3\n",
      "Copy /ds/dataset/quran/100/022.mp3 to /ds/dataset/quran/train/100_022.mp3\n",
      "Copy /ds/dataset/quran/100/405.mp3 to /ds/dataset/quran/test/100_405.mp3\n",
      "Copy /ds/dataset/quran/100/285.mp3 to /ds/dataset/quran/train/100_285.mp3\n",
      "Copy /ds/dataset/quran/100/181.mp3 to /ds/dataset/quran/train/100_181.mp3\n",
      "Copy /ds/dataset/quran/100/156.mp3 to /ds/dataset/quran/train/100_156.mp3\n",
      "Copy /ds/dataset/quran/100/132.mp3 to /ds/dataset/quran/train/100_132.mp3\n",
      "Copy /ds/dataset/quran/100/432.mp3 to /ds/dataset/quran/test/100_432.mp3\n",
      "Copy /ds/dataset/quran/100/078.mp3 to /ds/dataset/quran/train/100_078.mp3\n",
      "Copy /ds/dataset/quran/100/053.mp3 to /ds/dataset/quran/train/100_053.mp3\n",
      "Copy /ds/dataset/quran/100/137.mp3 to /ds/dataset/quran/train/100_137.mp3\n",
      "Copy /ds/dataset/quran/100/315.mp3 to /ds/dataset/quran/train/100_315.mp3\n",
      "Copy /ds/dataset/quran/100/302.mp3 to /ds/dataset/quran/train/100_302.mp3\n",
      "Copy /ds/dataset/quran/100/198.mp3 to /ds/dataset/quran/train/100_198.mp3\n",
      "Copy /ds/dataset/quran/100/308.mp3 to /ds/dataset/quran/train/100_308.mp3\n",
      "Copy /ds/dataset/quran/100/133.mp3 to /ds/dataset/quran/train/100_133.mp3\n",
      "Copy /ds/dataset/quran/100/318.mp3 to /ds/dataset/quran/train/100_318.mp3\n",
      "Copy /ds/dataset/quran/100/068.mp3 to /ds/dataset/quran/train/100_068.mp3\n",
      "Copy /ds/dataset/quran/100/242.mp3 to /ds/dataset/quran/train/100_242.mp3\n",
      "Copy /ds/dataset/quran/100/355.mp3 to /ds/dataset/quran/train/100_355.mp3\n",
      "Copy /ds/dataset/quran/100/201.mp3 to /ds/dataset/quran/train/100_201.mp3\n",
      "Copy /ds/dataset/quran/100/344.mp3 to /ds/dataset/quran/train/100_344.mp3\n",
      "Copy /ds/dataset/quran/100/321.mp3 to /ds/dataset/quran/train/100_321.mp3\n",
      "Copy /ds/dataset/quran/100/048.mp3 to /ds/dataset/quran/train/100_048.mp3\n",
      "Copy /ds/dataset/quran/100/394.mp3 to /ds/dataset/quran/train/100_394.mp3\n",
      "Copy /ds/dataset/quran/100/450.mp3 to /ds/dataset/quran/test/100_450.mp3\n",
      "Copy /ds/dataset/quran/100/336.mp3 to /ds/dataset/quran/train/100_336.mp3\n",
      "Copy /ds/dataset/quran/100/004.mp3 to /ds/dataset/quran/train/100_004.mp3\n",
      "Copy /ds/dataset/quran/100/180.mp3 to /ds/dataset/quran/train/100_180.mp3\n",
      "Copy /ds/dataset/quran/100/050.mp3 to /ds/dataset/quran/train/100_050.mp3\n",
      "Copy /ds/dataset/quran/100/191.mp3 to /ds/dataset/quran/train/100_191.mp3\n",
      "Copy /ds/dataset/quran/100/468.mp3 to /ds/dataset/quran/test/100_468.mp3\n",
      "Copy /ds/dataset/quran/100/257.mp3 to /ds/dataset/quran/train/100_257.mp3\n",
      "Copy /ds/dataset/quran/100/463.mp3 to /ds/dataset/quran/test/100_463.mp3\n",
      "Copy /ds/dataset/quran/100/114.mp3 to /ds/dataset/quran/train/100_114.mp3\n",
      "Copy /ds/dataset/quran/100/352.mp3 to /ds/dataset/quran/train/100_352.mp3\n",
      "Copy /ds/dataset/quran/100/267.mp3 to /ds/dataset/quran/train/100_267.mp3\n",
      "Copy /ds/dataset/quran/100/207.mp3 to /ds/dataset/quran/train/100_207.mp3\n",
      "Copy /ds/dataset/quran/100/079.mp3 to /ds/dataset/quran/train/100_079.mp3\n",
      "Copy /ds/dataset/quran/100/127.mp3 to /ds/dataset/quran/train/100_127.mp3\n",
      "Copy /ds/dataset/quran/100/056.mp3 to /ds/dataset/quran/train/100_056.mp3\n",
      "Copy /ds/dataset/quran/100/082.mp3 to /ds/dataset/quran/train/100_082.mp3\n",
      "Copy /ds/dataset/quran/100/282.mp3 to /ds/dataset/quran/train/100_282.mp3\n",
      "Copy /ds/dataset/quran/100/031.mp3 to /ds/dataset/quran/train/100_031.mp3\n",
      "Copy /ds/dataset/quran/100/069.mp3 to /ds/dataset/quran/train/100_069.mp3\n",
      "Copy /ds/dataset/quran/100/235.mp3 to /ds/dataset/quran/train/100_235.mp3\n",
      "Copy /ds/dataset/quran/100/096.mp3 to /ds/dataset/quran/train/100_096.mp3\n",
      "Copy /ds/dataset/quran/100/030.mp3 to /ds/dataset/quran/train/100_030.mp3\n",
      "Copy /ds/dataset/quran/100/047.mp3 to /ds/dataset/quran/train/100_047.mp3\n",
      "Copy /ds/dataset/quran/100/199.mp3 to /ds/dataset/quran/train/100_199.mp3\n",
      "Copy /ds/dataset/quran/100/179.mp3 to /ds/dataset/quran/train/100_179.mp3\n",
      "Copy /ds/dataset/quran/100/459.mp3 to /ds/dataset/quran/test/100_459.mp3\n",
      "Copy /ds/dataset/quran/100/422.mp3 to /ds/dataset/quran/test/100_422.mp3\n",
      "Copy /ds/dataset/quran/100/146.mp3 to /ds/dataset/quran/train/100_146.mp3\n",
      "Copy /ds/dataset/quran/100/466.mp3 to /ds/dataset/quran/test/100_466.mp3\n",
      "Copy /ds/dataset/quran/100/278.mp3 to /ds/dataset/quran/train/100_278.mp3\n",
      "Copy /ds/dataset/quran/100/209.mp3 to /ds/dataset/quran/train/100_209.mp3\n",
      "Copy /ds/dataset/quran/100/033.mp3 to /ds/dataset/quran/train/100_033.mp3\n",
      "Copy /ds/dataset/quran/100/111.mp3 to /ds/dataset/quran/train/100_111.mp3\n",
      "Copy /ds/dataset/quran/100/289.mp3 to /ds/dataset/quran/train/100_289.mp3\n",
      "Copy /ds/dataset/quran/100/223.mp3 to /ds/dataset/quran/train/100_223.mp3\n",
      "Copy /ds/dataset/quran/100/246.mp3 to /ds/dataset/quran/train/100_246.mp3\n",
      "Copy /ds/dataset/quran/100/372.mp3 to /ds/dataset/quran/train/100_372.mp3\n",
      "Copy /ds/dataset/quran/100/358.mp3 to /ds/dataset/quran/train/100_358.mp3\n",
      "Copy /ds/dataset/quran/100/400.mp3 to /ds/dataset/quran/train/100_400.mp3\n",
      "Copy /ds/dataset/quran/100/012.mp3 to /ds/dataset/quran/train/100_012.mp3\n",
      "Copy /ds/dataset/quran/100/218.mp3 to /ds/dataset/quran/train/100_218.mp3\n",
      "Copy /ds/dataset/quran/100/446.mp3 to /ds/dataset/quran/test/100_446.mp3\n",
      "Copy /ds/dataset/quran/100/112.mp3 to /ds/dataset/quran/train/100_112.mp3\n",
      "Copy /ds/dataset/quran/100/262.mp3 to /ds/dataset/quran/train/100_262.mp3\n",
      "Copy /ds/dataset/quran/100/233.mp3 to /ds/dataset/quran/train/100_233.mp3\n",
      "Copy /ds/dataset/quran/100/260.mp3 to /ds/dataset/quran/train/100_260.mp3\n",
      "Copy /ds/dataset/quran/100/418.mp3 to /ds/dataset/quran/test/100_418.mp3\n",
      "Copy /ds/dataset/quran/100/208.mp3 to /ds/dataset/quran/train/100_208.mp3\n",
      "Copy /ds/dataset/quran/100/120.mp3 to /ds/dataset/quran/train/100_120.mp3\n",
      "Copy /ds/dataset/quran/100/222.mp3 to /ds/dataset/quran/train/100_222.mp3\n",
      "Copy /ds/dataset/quran/100/145.mp3 to /ds/dataset/quran/train/100_145.mp3\n",
      "Copy /ds/dataset/quran/100/131.mp3 to /ds/dataset/quran/train/100_131.mp3\n",
      "Copy /ds/dataset/quran/100/081.mp3 to /ds/dataset/quran/train/100_081.mp3\n",
      "Copy /ds/dataset/quran/100/018.mp3 to /ds/dataset/quran/train/100_018.mp3\n",
      "Copy /ds/dataset/quran/100/297.mp3 to /ds/dataset/quran/train/100_297.mp3\n",
      "Copy /ds/dataset/quran/100/149.mp3 to /ds/dataset/quran/train/100_149.mp3\n",
      "Copy /ds/dataset/quran/100/193.mp3 to /ds/dataset/quran/train/100_193.mp3\n",
      "Copy /ds/dataset/quran/100/410.mp3 to /ds/dataset/quran/test/100_410.mp3\n",
      "Copy /ds/dataset/quran/100/194.mp3 to /ds/dataset/quran/train/100_194.mp3\n",
      "Copy /ds/dataset/quran/100/119.mp3 to /ds/dataset/quran/train/100_119.mp3\n",
      "Copy /ds/dataset/quran/100/097.mp3 to /ds/dataset/quran/train/100_097.mp3\n",
      "Copy /ds/dataset/quran/100/273.mp3 to /ds/dataset/quran/train/100_273.mp3\n",
      "Copy /ds/dataset/quran/100/449.mp3 to /ds/dataset/quran/test/100_449.mp3\n",
      "Copy /ds/dataset/quran/100/393.mp3 to /ds/dataset/quran/train/100_393.mp3\n",
      "Copy /ds/dataset/quran/100/128.mp3 to /ds/dataset/quran/train/100_128.mp3\n",
      "Copy /ds/dataset/quran/100/142.mp3 to /ds/dataset/quran/train/100_142.mp3\n",
      "Copy /ds/dataset/quran/100/370.mp3 to /ds/dataset/quran/train/100_370.mp3\n",
      "Copy /ds/dataset/quran/100/386.mp3 to /ds/dataset/quran/train/100_386.mp3\n",
      "Copy /ds/dataset/quran/100/464.mp3 to /ds/dataset/quran/test/100_464.mp3\n",
      "Copy /ds/dataset/quran/100/153.mp3 to /ds/dataset/quran/train/100_153.mp3\n",
      "Copy /ds/dataset/quran/100/296.mp3 to /ds/dataset/quran/train/100_296.mp3\n",
      "Copy /ds/dataset/quran/100/384.mp3 to /ds/dataset/quran/train/100_384.mp3\n",
      "Copy /ds/dataset/quran/100/427.mp3 to /ds/dataset/quran/test/100_427.mp3\n",
      "Copy /ds/dataset/quran/100/139.mp3 to /ds/dataset/quran/train/100_139.mp3\n",
      "Copy /ds/dataset/quran/100/433.mp3 to /ds/dataset/quran/test/100_433.mp3\n",
      "Copy /ds/dataset/quran/100/329.mp3 to /ds/dataset/quran/train/100_329.mp3\n",
      "Copy /ds/dataset/quran/100/016.mp3 to /ds/dataset/quran/train/100_016.mp3\n",
      "Copy /ds/dataset/quran/100/075.mp3 to /ds/dataset/quran/train/100_075.mp3\n",
      "Copy /ds/dataset/quran/100/389.mp3 to /ds/dataset/quran/train/100_389.mp3\n",
      "Copy /ds/dataset/quran/100/369.mp3 to /ds/dataset/quran/train/100_369.mp3\n",
      "Copy /ds/dataset/quran/100/214.mp3 to /ds/dataset/quran/train/100_214.mp3\n",
      "Copy /ds/dataset/quran/100/160.mp3 to /ds/dataset/quran/train/100_160.mp3\n",
      "Copy /ds/dataset/quran/100/231.mp3 to /ds/dataset/quran/train/100_231.mp3\n",
      "Copy /ds/dataset/quran/100/189.mp3 to /ds/dataset/quran/train/100_189.mp3\n",
      "Copy /ds/dataset/quran/100/015.mp3 to /ds/dataset/quran/train/100_015.mp3\n",
      "Copy /ds/dataset/quran/100/154.mp3 to /ds/dataset/quran/train/100_154.mp3\n",
      "Copy /ds/dataset/quran/100/470.mp3 to /ds/dataset/quran/test/100_470.mp3\n",
      "Copy /ds/dataset/quran/100/359.mp3 to /ds/dataset/quran/train/100_359.mp3\n",
      "Copy /ds/dataset/quran/100/147.mp3 to /ds/dataset/quran/train/100_147.mp3\n",
      "Copy /ds/dataset/quran/100/196.mp3 to /ds/dataset/quran/train/100_196.mp3\n",
      "Copy /ds/dataset/quran/100/428.mp3 to /ds/dataset/quran/test/100_428.mp3\n",
      "Copy /ds/dataset/quran/100/152.mp3 to /ds/dataset/quran/train/100_152.mp3\n",
      "Copy /ds/dataset/quran/100/407.mp3 to /ds/dataset/quran/test/100_407.mp3\n",
      "Copy /ds/dataset/quran/100/245.mp3 to /ds/dataset/quran/train/100_245.mp3\n",
      "Copy /ds/dataset/quran/100/007.mp3 to /ds/dataset/quran/train/100_007.mp3\n",
      "Copy /ds/dataset/quran/100/335.mp3 to /ds/dataset/quran/train/100_335.mp3\n",
      "Copy /ds/dataset/quran/100/161.mp3 to /ds/dataset/quran/train/100_161.mp3\n",
      "Copy /ds/dataset/quran/100/100.mp3 to /ds/dataset/quran/train/100_100.mp3\n",
      "Copy /ds/dataset/quran/100/202.mp3 to /ds/dataset/quran/train/100_202.mp3\n",
      "Copy /ds/dataset/quran/100/431.mp3 to /ds/dataset/quran/test/100_431.mp3\n",
      "Copy /ds/dataset/quran/100/458.mp3 to /ds/dataset/quran/test/100_458.mp3\n",
      "Copy /ds/dataset/quran/100/406.mp3 to /ds/dataset/quran/test/100_406.mp3\n",
      "Copy /ds/dataset/quran/100/323.mp3 to /ds/dataset/quran/train/100_323.mp3\n",
      "Copy /ds/dataset/quran/100/077.mp3 to /ds/dataset/quran/train/100_077.mp3\n",
      "Copy /ds/dataset/quran/100/224.mp3 to /ds/dataset/quran/train/100_224.mp3\n",
      "Copy /ds/dataset/quran/100/275.mp3 to /ds/dataset/quran/train/100_275.mp3\n",
      "Copy /ds/dataset/quran/100/036.mp3 to /ds/dataset/quran/train/100_036.mp3\n",
      "Copy /ds/dataset/quran/100/442.mp3 to /ds/dataset/quran/test/100_442.mp3\n",
      "Copy /ds/dataset/quran/100/396.mp3 to /ds/dataset/quran/train/100_396.mp3\n",
      "Copy /ds/dataset/quran/100/025.mp3 to /ds/dataset/quran/train/100_025.mp3\n",
      "Copy /ds/dataset/quran/100/221.mp3 to /ds/dataset/quran/train/100_221.mp3\n",
      "Copy /ds/dataset/quran/100/435.mp3 to /ds/dataset/quran/test/100_435.mp3\n",
      "Copy /ds/dataset/quran/100/073.mp3 to /ds/dataset/quran/train/100_073.mp3\n",
      "Copy /ds/dataset/quran/100/259.mp3 to /ds/dataset/quran/train/100_259.mp3\n",
      "Copy /ds/dataset/quran/100/269.mp3 to /ds/dataset/quran/train/100_269.mp3\n",
      "Copy /ds/dataset/quran/100/080.mp3 to /ds/dataset/quran/train/100_080.mp3\n",
      "Copy /ds/dataset/quran/100/003.mp3 to /ds/dataset/quran/train/100_003.mp3\n",
      "Copy /ds/dataset/quran/100/346.mp3 to /ds/dataset/quran/train/100_346.mp3\n",
      "Copy /ds/dataset/quran/100/390.mp3 to /ds/dataset/quran/train/100_390.mp3\n",
      "Copy /ds/dataset/quran/100/331.mp3 to /ds/dataset/quran/train/100_331.mp3\n",
      "Copy /ds/dataset/quran/100/270.mp3 to /ds/dataset/quran/train/100_270.mp3\n",
      "Copy /ds/dataset/quran/100/084.mp3 to /ds/dataset/quran/train/100_084.mp3\n",
      "Copy /ds/dataset/quran/100/265.mp3 to /ds/dataset/quran/train/100_265.mp3\n",
      "Copy /ds/dataset/quran/100/348.mp3 to /ds/dataset/quran/train/100_348.mp3\n",
      "Copy /ds/dataset/quran/100/330.mp3 to /ds/dataset/quran/train/100_330.mp3\n",
      "Copy /ds/dataset/quran/100/434.mp3 to /ds/dataset/quran/test/100_434.mp3\n",
      "Copy /ds/dataset/quran/100/251.mp3 to /ds/dataset/quran/train/100_251.mp3\n",
      "Copy /ds/dataset/quran/100/017.mp3 to /ds/dataset/quran/train/100_017.mp3\n",
      "Copy /ds/dataset/quran/100/332.mp3 to /ds/dataset/quran/train/100_332.mp3\n",
      "Copy /ds/dataset/quran/100/421.mp3 to /ds/dataset/quran/test/100_421.mp3\n",
      "Copy /ds/dataset/quran/100/425.mp3 to /ds/dataset/quran/test/100_425.mp3\n",
      "Copy /ds/dataset/quran/100/225.mp3 to /ds/dataset/quran/train/100_225.mp3\n",
      "Copy /ds/dataset/quran/100/032.mp3 to /ds/dataset/quran/train/100_032.mp3\n",
      "Copy /ds/dataset/quran/100/360.mp3 to /ds/dataset/quran/train/100_360.mp3\n",
      "Copy /ds/dataset/quran/100/185.mp3 to /ds/dataset/quran/train/100_185.mp3\n",
      "Copy /ds/dataset/quran/100/377.mp3 to /ds/dataset/quran/train/100_377.mp3\n",
      "Copy /ds/dataset/quran/100/115.mp3 to /ds/dataset/quran/train/100_115.mp3\n",
      "Copy /ds/dataset/quran/100/136.mp3 to /ds/dataset/quran/train/100_136.mp3\n",
      "Copy /ds/dataset/quran/100/228.mp3 to /ds/dataset/quran/train/100_228.mp3\n",
      "Copy /ds/dataset/quran/100/118.mp3 to /ds/dataset/quran/train/100_118.mp3\n",
      "Copy /ds/dataset/quran/100/101.mp3 to /ds/dataset/quran/train/100_101.mp3\n",
      "Copy /ds/dataset/quran/100/447.mp3 to /ds/dataset/quran/test/100_447.mp3\n",
      "Copy /ds/dataset/quran/100/402.mp3 to /ds/dataset/quran/test/100_402.mp3\n",
      "Copy /ds/dataset/quran/100/067.mp3 to /ds/dataset/quran/train/100_067.mp3\n",
      "Copy /ds/dataset/quran/100/204.mp3 to /ds/dataset/quran/train/100_204.mp3\n",
      "Copy /ds/dataset/quran/100/362.mp3 to /ds/dataset/quran/train/100_362.mp3\n",
      "Copy /ds/dataset/quran/100/195.mp3 to /ds/dataset/quran/train/100_195.mp3\n",
      "Copy /ds/dataset/quran/100/363.mp3 to /ds/dataset/quran/train/100_363.mp3\n",
      "Copy /ds/dataset/quran/100/216.mp3 to /ds/dataset/quran/train/100_216.mp3\n",
      "Copy /ds/dataset/quran/100/187.mp3 to /ds/dataset/quran/train/100_187.mp3\n",
      "Copy /ds/dataset/quran/100/266.mp3 to /ds/dataset/quran/train/100_266.mp3\n",
      "Copy /ds/dataset/quran/100/061.mp3 to /ds/dataset/quran/train/100_061.mp3\n",
      "Copy /ds/dataset/quran/100/342.mp3 to /ds/dataset/quran/train/100_342.mp3\n",
      "Copy /ds/dataset/quran/100/350.mp3 to /ds/dataset/quran/train/100_350.mp3\n",
      "Copy /ds/dataset/quran/100/284.mp3 to /ds/dataset/quran/train/100_284.mp3\n",
      "Copy /ds/dataset/quran/100/334.mp3 to /ds/dataset/quran/train/100_334.mp3\n",
      "Copy /ds/dataset/quran/100/076.mp3 to /ds/dataset/quran/train/100_076.mp3\n",
      "Copy /ds/dataset/quran/100/039.mp3 to /ds/dataset/quran/train/100_039.mp3\n",
      "Copy /ds/dataset/quran/100/169.mp3 to /ds/dataset/quran/train/100_169.mp3\n",
      "Copy /ds/dataset/quran/100/230.mp3 to /ds/dataset/quran/train/100_230.mp3\n",
      "Copy /ds/dataset/quran/100/213.mp3 to /ds/dataset/quran/train/100_213.mp3\n",
      "Copy /ds/dataset/quran/100/054.mp3 to /ds/dataset/quran/train/100_054.mp3\n",
      "Copy /ds/dataset/quran/100/088.mp3 to /ds/dataset/quran/train/100_088.mp3\n",
      "Copy /ds/dataset/quran/100/397.mp3 to /ds/dataset/quran/train/100_397.mp3\n",
      "Copy /ds/dataset/quran/100/055.mp3 to /ds/dataset/quran/train/100_055.mp3\n",
      "Copy /ds/dataset/quran/100/307.mp3 to /ds/dataset/quran/train/100_307.mp3\n",
      "Copy /ds/dataset/quran/100/109.mp3 to /ds/dataset/quran/train/100_109.mp3\n",
      "Copy /ds/dataset/quran/100/188.mp3 to /ds/dataset/quran/train/100_188.mp3\n",
      "Copy /ds/dataset/quran/100/091.mp3 to /ds/dataset/quran/train/100_091.mp3\n",
      "Copy /ds/dataset/quran/100/294.mp3 to /ds/dataset/quran/train/100_294.mp3\n",
      "Copy /ds/dataset/quran/100/475.mp3 to /ds/dataset/quran/test/100_475.mp3\n",
      "Copy /ds/dataset/quran/100/441.mp3 to /ds/dataset/quran/test/100_441.mp3\n",
      "Copy /ds/dataset/quran/100/457.mp3 to /ds/dataset/quran/test/100_457.mp3\n",
      "Copy /ds/dataset/quran/100/256.mp3 to /ds/dataset/quran/train/100_256.mp3\n",
      "Copy /ds/dataset/quran/100/417.mp3 to /ds/dataset/quran/test/100_417.mp3\n",
      "Copy /ds/dataset/quran/100/165.mp3 to /ds/dataset/quran/train/100_165.mp3\n",
      "Copy /ds/dataset/quran/100/413.mp3 to /ds/dataset/quran/test/100_413.mp3\n",
      "Copy /ds/dataset/quran/100/304.mp3 to /ds/dataset/quran/train/100_304.mp3\n",
      "Copy /ds/dataset/quran/100/467.mp3 to /ds/dataset/quran/test/100_467.mp3\n",
      "Copy /ds/dataset/quran/100/310.mp3 to /ds/dataset/quran/train/100_310.mp3\n",
      "Copy /ds/dataset/quran/100/353.mp3 to /ds/dataset/quran/train/100_353.mp3\n",
      "Copy /ds/dataset/quran/100/037.mp3 to /ds/dataset/quran/train/100_037.mp3\n",
      "Copy /ds/dataset/quran/100/364.mp3 to /ds/dataset/quran/train/100_364.mp3\n",
      "Copy /ds/dataset/quran/100/365.mp3 to /ds/dataset/quran/train/100_365.mp3\n",
      "Copy /ds/dataset/quran/100/089.mp3 to /ds/dataset/quran/train/100_089.mp3\n",
      "Copy /ds/dataset/quran/100/041.mp3 to /ds/dataset/quran/train/100_041.mp3\n",
      "Copy /ds/dataset/quran/100/141.mp3 to /ds/dataset/quran/train/100_141.mp3\n",
      "Copy /ds/dataset/quran/100/105.mp3 to /ds/dataset/quran/train/100_105.mp3\n",
      "Copy /ds/dataset/quran/100/404.mp3 to /ds/dataset/quran/test/100_404.mp3\n",
      "Copy /ds/dataset/quran/100/217.mp3 to /ds/dataset/quran/train/100_217.mp3\n",
      "Copy /ds/dataset/quran/100/426.mp3 to /ds/dataset/quran/test/100_426.mp3\n",
      "Copy /ds/dataset/quran/100/290.mp3 to /ds/dataset/quran/train/100_290.mp3\n",
      "Copy /ds/dataset/quran/100/250.mp3 to /ds/dataset/quran/train/100_250.mp3\n",
      "Copy /ds/dataset/quran/100/340.mp3 to /ds/dataset/quran/train/100_340.mp3\n",
      "Copy /ds/dataset/quran/100/130.mp3 to /ds/dataset/quran/train/100_130.mp3\n",
      "Copy /ds/dataset/quran/100/283.mp3 to /ds/dataset/quran/train/100_283.mp3\n",
      "Copy /ds/dataset/quran/100/339.mp3 to /ds/dataset/quran/train/100_339.mp3\n",
      "Copy /ds/dataset/quran/100/327.mp3 to /ds/dataset/quran/train/100_327.mp3\n",
      "Copy /ds/dataset/quran/100/291.mp3 to /ds/dataset/quran/train/100_291.mp3\n",
      "Copy /ds/dataset/quran/100/059.mp3 to /ds/dataset/quran/train/100_059.mp3\n",
      "Copy /ds/dataset/quran/100/443.mp3 to /ds/dataset/quran/test/100_443.mp3\n",
      "Copy /ds/dataset/quran/100/411.mp3 to /ds/dataset/quran/test/100_411.mp3\n",
      "Copy /ds/dataset/quran/100/034.mp3 to /ds/dataset/quran/train/100_034.mp3\n",
      "Copy /ds/dataset/quran/100/379.mp3 to /ds/dataset/quran/train/100_379.mp3\n",
      "Copy /ds/dataset/quran/100/001.mp3 to /ds/dataset/quran/train/100_001.mp3\n",
      "Copy /ds/dataset/quran/100/058.mp3 to /ds/dataset/quran/train/100_058.mp3\n",
      "Copy /ds/dataset/quran/100/043.mp3 to /ds/dataset/quran/train/100_043.mp3\n",
      "Copy /ds/dataset/quran/100/271.mp3 to /ds/dataset/quran/train/100_271.mp3\n",
      "Copy /ds/dataset/quran/100/060.mp3 to /ds/dataset/quran/train/100_060.mp3\n",
      "Copy /ds/dataset/quran/100/038.mp3 to /ds/dataset/quran/train/100_038.mp3\n",
      "Copy /ds/dataset/quran/100/182.mp3 to /ds/dataset/quran/train/100_182.mp3\n",
      "Copy /ds/dataset/quran/100/391.mp3 to /ds/dataset/quran/train/100_391.mp3\n",
      "Copy /ds/dataset/quran/100/345.mp3 to /ds/dataset/quran/train/100_345.mp3\n",
      "Copy /ds/dataset/quran/100/454.mp3 to /ds/dataset/quran/test/100_454.mp3\n",
      "Copy /ds/dataset/quran/100/122.mp3 to /ds/dataset/quran/train/100_122.mp3\n",
      "Copy /ds/dataset/quran/100/062.mp3 to /ds/dataset/quran/train/100_062.mp3\n",
      "Copy /ds/dataset/quran/100/177.mp3 to /ds/dataset/quran/train/100_177.mp3\n",
      "Copy /ds/dataset/quran/100/408.mp3 to /ds/dataset/quran/test/100_408.mp3\n",
      "Copy /ds/dataset/quran/100/325.mp3 to /ds/dataset/quran/train/100_325.mp3\n",
      "Copy /ds/dataset/quran/100/314.mp3 to /ds/dataset/quran/train/100_314.mp3\n",
      "Copy /ds/dataset/quran/100/319.mp3 to /ds/dataset/quran/train/100_319.mp3\n",
      "Copy /ds/dataset/quran/100/045.mp3 to /ds/dataset/quran/train/100_045.mp3\n",
      "Copy /ds/dataset/quran/100/085.mp3 to /ds/dataset/quran/train/100_085.mp3\n",
      "Copy /ds/dataset/quran/100/349.mp3 to /ds/dataset/quran/train/100_349.mp3\n",
      "Copy /ds/dataset/quran/100/367.mp3 to /ds/dataset/quran/train/100_367.mp3\n",
      "Copy /ds/dataset/quran/100/074.mp3 to /ds/dataset/quran/train/100_074.mp3\n",
      "Copy /ds/dataset/quran/100/095.mp3 to /ds/dataset/quran/train/100_095.mp3\n",
      "Copy /ds/dataset/quran/100/129.mp3 to /ds/dataset/quran/train/100_129.mp3\n",
      "Copy /ds/dataset/quran/100/099.mp3 to /ds/dataset/quran/train/100_099.mp3\n",
      "Copy /ds/dataset/quran/100/157.mp3 to /ds/dataset/quran/train/100_157.mp3\n",
      "Copy /ds/dataset/quran/100/197.mp3 to /ds/dataset/quran/train/100_197.mp3\n",
      "Copy /ds/dataset/quran/100/176.mp3 to /ds/dataset/quran/train/100_176.mp3\n",
      "Copy /ds/dataset/quran/100/299.mp3 to /ds/dataset/quran/train/100_299.mp3\n",
      "Copy /ds/dataset/quran/100/110.mp3 to /ds/dataset/quran/train/100_110.mp3\n",
      "Copy /ds/dataset/quran/100/272.mp3 to /ds/dataset/quran/train/100_272.mp3\n",
      "Copy /ds/dataset/quran/100/121.mp3 to /ds/dataset/quran/train/100_121.mp3\n",
      "Copy /ds/dataset/quran/100/448.mp3 to /ds/dataset/quran/test/100_448.mp3\n",
      "Copy /ds/dataset/quran/100/382.mp3 to /ds/dataset/quran/train/100_382.mp3\n",
      "Copy /ds/dataset/quran/100/215.mp3 to /ds/dataset/quran/train/100_215.mp3\n",
      "Copy /ds/dataset/quran/100/005.mp3 to /ds/dataset/quran/train/100_005.mp3\n",
      "Copy /ds/dataset/quran/100/104.mp3 to /ds/dataset/quran/train/100_104.mp3\n",
      "Copy /ds/dataset/quran/100/347.mp3 to /ds/dataset/quran/train/100_347.mp3\n",
      "Copy /ds/dataset/quran/100/190.mp3 to /ds/dataset/quran/train/100_190.mp3\n",
      "Copy /ds/dataset/quran/100/236.mp3 to /ds/dataset/quran/train/100_236.mp3\n",
      "Copy /ds/dataset/quran/100/401.mp3 to /ds/dataset/quran/test/100_401.mp3\n",
      "Copy /ds/dataset/quran/100/293.mp3 to /ds/dataset/quran/train/100_293.mp3\n",
      "Copy /ds/dataset/quran/100/239.mp3 to /ds/dataset/quran/train/100_239.mp3\n",
      "Copy /ds/dataset/quran/100/027.mp3 to /ds/dataset/quran/train/100_027.mp3\n",
      "Copy /ds/dataset/quran/100/423.mp3 to /ds/dataset/quran/test/100_423.mp3\n",
      "Copy /ds/dataset/quran/100/116.mp3 to /ds/dataset/quran/train/100_116.mp3\n",
      "Copy /ds/dataset/quran/100/238.mp3 to /ds/dataset/quran/train/100_238.mp3\n",
      "Copy /ds/dataset/quran/100/326.mp3 to /ds/dataset/quran/train/100_326.mp3\n",
      "Copy /ds/dataset/quran/100/472.mp3 to /ds/dataset/quran/test/100_472.mp3\n",
      "Copy /ds/dataset/quran/100/298.mp3 to /ds/dataset/quran/train/100_298.mp3\n",
      "Copy /ds/dataset/quran/100/444.mp3 to /ds/dataset/quran/test/100_444.mp3\n",
      "Copy /ds/dataset/quran/100/226.mp3 to /ds/dataset/quran/train/100_226.mp3\n",
      "Copy /ds/dataset/quran/100/229.mp3 to /ds/dataset/quran/train/100_229.mp3\n",
      "Copy /ds/dataset/quran/100/388.mp3 to /ds/dataset/quran/train/100_388.mp3\n",
      "Copy /ds/dataset/quran/100/011.mp3 to /ds/dataset/quran/train/100_011.mp3\n",
      "Copy /ds/dataset/quran/100/163.mp3 to /ds/dataset/quran/train/100_163.mp3\n",
      "Copy /ds/dataset/quran/100/102.mp3 to /ds/dataset/quran/train/100_102.mp3\n",
      "Copy /ds/dataset/quran/100/261.mp3 to /ds/dataset/quran/train/100_261.mp3\n",
      "Copy /ds/dataset/quran/100/412.mp3 to /ds/dataset/quran/test/100_412.mp3\n",
      "Copy /ds/dataset/quran/100/451.mp3 to /ds/dataset/quran/test/100_451.mp3\n",
      "Copy /ds/dataset/quran/100/021.mp3 to /ds/dataset/quran/train/100_021.mp3\n",
      "Copy /ds/dataset/quran/100/320.mp3 to /ds/dataset/quran/train/100_320.mp3\n",
      "Copy /ds/dataset/quran/100/178.mp3 to /ds/dataset/quran/train/100_178.mp3\n",
      "Copy /ds/dataset/quran/100/184.mp3 to /ds/dataset/quran/train/100_184.mp3\n",
      "Copy /ds/dataset/quran/100/200.mp3 to /ds/dataset/quran/train/100_200.mp3\n",
      "Copy /ds/dataset/quran/100/070.mp3 to /ds/dataset/quran/train/100_070.mp3\n",
      "Copy /ds/dataset/quran/100/437.mp3 to /ds/dataset/quran/test/100_437.mp3\n",
      "Copy /ds/dataset/quran/100/151.mp3 to /ds/dataset/quran/train/100_151.mp3\n",
      "Copy /ds/dataset/quran/100/173.mp3 to /ds/dataset/quran/train/100_173.mp3\n",
      "Copy /ds/dataset/quran/100/324.mp3 to /ds/dataset/quran/train/100_324.mp3\n",
      "Copy /ds/dataset/quran/100/049.mp3 to /ds/dataset/quran/train/100_049.mp3\n",
      "Copy /ds/dataset/quran/100/170.mp3 to /ds/dataset/quran/train/100_170.mp3\n",
      "Copy /ds/dataset/quran/100/044.mp3 to /ds/dataset/quran/train/100_044.mp3\n",
      "Copy /ds/dataset/quran/100/240.mp3 to /ds/dataset/quran/train/100_240.mp3\n",
      "Copy /ds/dataset/quran/100/010.mp3 to /ds/dataset/quran/train/100_010.mp3\n",
      "Copy /ds/dataset/quran/100/440.mp3 to /ds/dataset/quran/test/100_440.mp3\n",
      "Copy /ds/dataset/quran/100/092.mp3 to /ds/dataset/quran/train/100_092.mp3\n",
      "Copy /ds/dataset/quran/100/387.mp3 to /ds/dataset/quran/train/100_387.mp3\n",
      "Copy /ds/dataset/quran/100/381.mp3 to /ds/dataset/quran/train/100_381.mp3\n",
      "Copy /ds/dataset/quran/100/144.mp3 to /ds/dataset/quran/train/100_144.mp3\n",
      "Copy /ds/dataset/quran/100/473.mp3 to /ds/dataset/quran/test/100_473.mp3\n",
      "Copy /ds/dataset/quran/100/462.mp3 to /ds/dataset/quran/test/100_462.mp3\n",
      "Copy /ds/dataset/quran/100/414.mp3 to /ds/dataset/quran/test/100_414.mp3\n",
      "Copy /ds/dataset/quran/100/333.mp3 to /ds/dataset/quran/train/100_333.mp3\n",
      "Copy /ds/dataset/quran/100/186.mp3 to /ds/dataset/quran/train/100_186.mp3\n",
      "Copy /ds/dataset/quran/100/280.mp3 to /ds/dataset/quran/train/100_280.mp3\n",
      "Copy /ds/dataset/quran/100/371.mp3 to /ds/dataset/quran/train/100_371.mp3\n",
      "Copy /ds/dataset/quran/100/138.mp3 to /ds/dataset/quran/train/100_138.mp3\n",
      "Copy /ds/dataset/quran/100/303.mp3 to /ds/dataset/quran/train/100_303.mp3\n",
      "Copy /ds/dataset/quran/100/168.mp3 to /ds/dataset/quran/train/100_168.mp3\n",
      "Copy /ds/dataset/quran/100/086.mp3 to /ds/dataset/quran/train/100_086.mp3\n",
      "Copy /ds/dataset/quran/100/026.mp3 to /ds/dataset/quran/train/100_026.mp3\n",
      "Copy /ds/dataset/quran/100/430.mp3 to /ds/dataset/quran/test/100_430.mp3\n",
      "Copy /ds/dataset/quran/100/098.mp3 to /ds/dataset/quran/train/100_098.mp3\n",
      "Copy /ds/dataset/quran/100/124.mp3 to /ds/dataset/quran/train/100_124.mp3\n",
      "Copy /ds/dataset/quran/100/071.mp3 to /ds/dataset/quran/train/100_071.mp3\n",
      "Copy /ds/dataset/quran/100/300.mp3 to /ds/dataset/quran/train/100_300.mp3\n",
      "Copy /ds/dataset/quran/100/212.mp3 to /ds/dataset/quran/train/100_212.mp3\n",
      "Copy /ds/dataset/quran/100/313.mp3 to /ds/dataset/quran/train/100_313.mp3\n",
      "Copy /ds/dataset/quran/100/309.mp3 to /ds/dataset/quran/train/100_309.mp3\n",
      "Copy /ds/dataset/quran/100/211.mp3 to /ds/dataset/quran/train/100_211.mp3\n",
      "Copy /ds/dataset/quran/100/117.mp3 to /ds/dataset/quran/train/100_117.mp3\n",
      "Copy /ds/dataset/quran/100/166.mp3 to /ds/dataset/quran/train/100_166.mp3\n",
      "Copy /ds/dataset/quran/100/295.mp3 to /ds/dataset/quran/train/100_295.mp3\n",
      "Copy /ds/dataset/quran/100/354.mp3 to /ds/dataset/quran/train/100_354.mp3\n",
      "Copy /ds/dataset/quran/100/465.mp3 to /ds/dataset/quran/test/100_465.mp3\n",
      "Copy /ds/dataset/quran/100/268.mp3 to /ds/dataset/quran/train/100_268.mp3\n",
      "Copy /ds/dataset/quran/100/014.mp3 to /ds/dataset/quran/train/100_014.mp3\n",
      "Copy /ds/dataset/quran/100/042.mp3 to /ds/dataset/quran/train/100_042.mp3\n",
      "Copy /ds/dataset/quran/100/083.mp3 to /ds/dataset/quran/train/100_083.mp3\n",
      "Copy /ds/dataset/quran/100/328.mp3 to /ds/dataset/quran/train/100_328.mp3\n",
      "Copy /ds/dataset/quran/100/276.mp3 to /ds/dataset/quran/train/100_276.mp3\n",
      "Copy /ds/dataset/quran/100/439.mp3 to /ds/dataset/quran/test/100_439.mp3\n",
      "Copy /ds/dataset/quran/100/392.mp3 to /ds/dataset/quran/train/100_392.mp3\n",
      "Copy /ds/dataset/quran/100/376.mp3 to /ds/dataset/quran/train/100_376.mp3\n",
      "Copy /ds/dataset/quran/100/065.mp3 to /ds/dataset/quran/train/100_065.mp3\n",
      "Copy /ds/dataset/quran/100/306.mp3 to /ds/dataset/quran/train/100_306.mp3\n",
      "Copy /ds/dataset/quran/100/232.mp3 to /ds/dataset/quran/train/100_232.mp3\n",
      "Copy /ds/dataset/quran/100/241.mp3 to /ds/dataset/quran/train/100_241.mp3\n",
      "Copy /ds/dataset/quran/100/113.mp3 to /ds/dataset/quran/train/100_113.mp3\n",
      "Copy /ds/dataset/quran/100/107.mp3 to /ds/dataset/quran/train/100_107.mp3\n",
      "Copy /ds/dataset/quran/100/009.mp3 to /ds/dataset/quran/train/100_009.mp3\n",
      "Copy /ds/dataset/quran/100/373.mp3 to /ds/dataset/quran/train/100_373.mp3\n",
      "Copy /ds/dataset/quran/100/249.mp3 to /ds/dataset/quran/train/100_249.mp3\n",
      "Copy /ds/dataset/quran/100/150.mp3 to /ds/dataset/quran/train/100_150.mp3\n",
      "Copy /ds/dataset/quran/100/064.mp3 to /ds/dataset/quran/train/100_064.mp3\n",
      "Copy /ds/dataset/quran/100/174.mp3 to /ds/dataset/quran/train/100_174.mp3\n",
      "Copy /ds/dataset/quran/100/125.mp3 to /ds/dataset/quran/train/100_125.mp3\n",
      "Copy /ds/dataset/quran/100/192.mp3 to /ds/dataset/quran/train/100_192.mp3\n",
      "Copy /ds/dataset/quran/100/403.mp3 to /ds/dataset/quran/test/100_403.mp3\n",
      "Copy /ds/dataset/quran/100/357.mp3 to /ds/dataset/quran/train/100_357.mp3\n",
      "Copy /ds/dataset/quran/100/162.mp3 to /ds/dataset/quran/train/100_162.mp3\n",
      "Copy /ds/dataset/quran/100/247.mp3 to /ds/dataset/quran/train/100_247.mp3\n",
      "Copy /ds/dataset/quran/100/445.mp3 to /ds/dataset/quran/test/100_445.mp3\n",
      "Copy /ds/dataset/quran/100/203.mp3 to /ds/dataset/quran/train/100_203.mp3\n",
      "Copy /ds/dataset/quran/100/287.mp3 to /ds/dataset/quran/train/100_287.mp3\n",
      "Copy /ds/dataset/quran/100/006.mp3 to /ds/dataset/quran/train/100_006.mp3\n",
      "Copy /ds/dataset/quran/100/108.mp3 to /ds/dataset/quran/train/100_108.mp3\n",
      "Copy /ds/dataset/quran/100/063.mp3 to /ds/dataset/quran/train/100_063.mp3\n",
      "Copy /ds/dataset/quran/100/210.mp3 to /ds/dataset/quran/train/100_210.mp3\n",
      "Copy /ds/dataset/quran/100/356.mp3 to /ds/dataset/quran/train/100_356.mp3\n",
      "Copy /ds/dataset/quran/100/008.mp3 to /ds/dataset/quran/train/100_008.mp3\n",
      "Copy /ds/dataset/quran/100/351.mp3 to /ds/dataset/quran/train/100_351.mp3\n",
      "Copy /ds/dataset/quran/100/409.mp3 to /ds/dataset/quran/test/100_409.mp3\n",
      "Copy /ds/dataset/quran/100/338.mp3 to /ds/dataset/quran/train/100_338.mp3\n"
     ]
    }
   ],
   "source": [
    "result = []\n",
    "myrootdir = '/ds/dataset/quran'\n",
    "\n",
    "train_path = '/ds/dataset/quran/train'\n",
    "test_path = '/ds/dataset/quran/test'\n",
    "\n",
    "reg_compile = re.compile(\"100\")\n",
    "for dirpath, dirnames, filenames in os.walk(myrootdir):\n",
    "    result = result + [dirname for dirname in dirnames if  reg_compile.match(dirname)]\n",
    "for dir in sorted(result):\n",
    "    #print (myrootdir+'/'+dir)\n",
    "    divide_data_into_test_train( myrootdir+'/'+dir, train_path, test_path)\n",
    "    #divide_data_into_test_train( path, train_test, test_path)"
   ]
  },
  {
   "cell_type": "markdown",
   "metadata": {},
   "source": [
    "##### create panda from the files dataset \n",
    "mainly used for the test dataset to generate the file name and the label based on the label criteria"
   ]
  },
  {
   "cell_type": "code",
   "execution_count": null,
   "metadata": {
    "ExecuteTime": {
     "end_time": "2018-04-10T05:41:14.740427Z",
     "start_time": "2018-04-10T05:41:14.727637Z"
    }
   },
   "outputs": [],
   "source": [
    "def list_files_with_labels( path):\n",
    "    files = sorted(os.listdir(path))\n",
    "    dir_name = ntpath.basename(path)\n",
    "    # random.shuffle(files)\n",
    "    # print(dir_name)\n",
    "    i = 1\n",
    "    labels = []\n",
    "    for file in files:\n",
    "        # extract the original file name\n",
    "        orig_file_name = os.path.join(path, file)\n",
    "        # extract file extention\n",
    "        filename, file_extension = os.path.splitext(file)\n",
    "        # extract the label\n",
    "        labels.append(int(filename.split('_')[0]))\n",
    "        \n",
    "    # return a panda structue contain the file name and the label    \n",
    "    output = pd.DataFrame(data={\"files\":files, \"labels\":labels})\n",
    "    return output\n"
   ]
  },
  {
   "cell_type": "code",
   "execution_count": null,
   "metadata": {
    "ExecuteTime": {
     "end_time": "2018-04-10T05:41:16.023721Z",
     "start_time": "2018-04-10T05:41:15.833348Z"
    }
   },
   "outputs": [],
   "source": [
    "path = '/ds/dataset/quran/test'\n",
    "\n",
    "new_path = '/ds/dataset/quran/dataset'\n",
    "\n",
    "dataset = list_files_with_labels( path)\n"
   ]
  },
  {
   "cell_type": "markdown",
   "metadata": {},
   "source": [
    "#### randomize list\n",
    "randomize the files in the dataset then create a new name based on the randomization "
   ]
  },
  {
   "cell_type": "code",
   "execution_count": null,
   "metadata": {
    "ExecuteTime": {
     "end_time": "2018-04-10T05:41:18.003734Z",
     "start_time": "2018-04-10T05:41:17.997480Z"
    }
   },
   "outputs": [],
   "source": [
    "def list_randomize(path):\n",
    "    df = []\n",
    "    \n",
    "    dataset = list_files_with_labels( path)\n",
    "    df = dataset.sample(frac=1).reset_index(drop=True)\n",
    "    df['newfilename'] = (df.index + 1).astype(str).str.zfill(4) + '.mp3'\n",
    "    \n",
    "    # df.index = df.index.map(str) \n",
    "    return df"
   ]
  },
  {
   "cell_type": "code",
   "execution_count": null,
   "metadata": {
    "ExecuteTime": {
     "end_time": "2018-04-10T05:41:19.147032Z",
     "start_time": "2018-04-10T05:41:19.027179Z"
    }
   },
   "outputs": [],
   "source": [
    "data = list_randomize( path)"
   ]
  },
  {
   "cell_type": "code",
   "execution_count": null,
   "metadata": {
    "ExecuteTime": {
     "end_time": "2018-04-10T05:41:20.228374Z",
     "start_time": "2018-04-10T05:41:20.057089Z"
    }
   },
   "outputs": [],
   "source": [
    "data"
   ]
  },
  {
   "cell_type": "markdown",
   "metadata": {},
   "source": [
    "##### track the original file name and the new file name\n",
    "alwasy keep a copy of the panda to keep track of the files in the original dataset and the new file names"
   ]
  },
  {
   "cell_type": "code",
   "execution_count": null,
   "metadata": {
    "ExecuteTime": {
     "end_time": "2018-04-10T05:41:27.981098Z",
     "start_time": "2018-04-10T05:41:27.927327Z"
    }
   },
   "outputs": [],
   "source": [
    "data.to_csv( \"dataset_modified.csv\", index=False, quoting=3 )"
   ]
  },
  {
   "cell_type": "markdown",
   "metadata": {},
   "source": [
    "#####  copy_dataset_newloc is used mainly to copy the original files to the new location with the new random file names generated for them\n",
    "this will help to create a testing dataset"
   ]
  },
  {
   "cell_type": "code",
   "execution_count": null,
   "metadata": {
    "ExecuteTime": {
     "end_time": "2018-04-10T05:59:22.921411Z",
     "start_time": "2018-04-10T05:59:22.917641Z"
    }
   },
   "outputs": [],
   "source": [
    " def copy_dataset_newloc(dataset,path,new_path):\n",
    "        shutil.copy(path+ '/' +dataset['files'],  new_path +'/' + dataset['newfilename'] )\n",
    "        return "
   ]
  },
  {
   "cell_type": "code",
   "execution_count": null,
   "metadata": {
    "ExecuteTime": {
     "end_time": "2018-04-10T05:57:01.456285Z",
     "start_time": "2018-04-10T05:57:01.447245Z"
    }
   },
   "outputs": [],
   "source": [
    "copy_dataset_newloc(data)"
   ]
  },
  {
   "cell_type": "code",
   "execution_count": null,
   "metadata": {
    "ExecuteTime": {
     "end_time": "2018-04-10T05:45:10.730616Z",
     "start_time": "2018-04-10T05:45:10.727162Z"
    }
   },
   "outputs": [],
   "source": [
    "orig_file_name = path+ '/' +dataset['files'] "
   ]
  },
  {
   "cell_type": "code",
   "execution_count": null,
   "metadata": {
    "ExecuteTime": {
     "end_time": "2018-04-10T06:00:01.920761Z",
     "start_time": "2018-04-10T05:59:30.007569Z"
    }
   },
   "outputs": [],
   "source": [
    "data.apply(copy_dataset_newloc ,axis=1, args=(path,new_path))"
   ]
  },
  {
   "cell_type": "markdown",
   "metadata": {},
   "source": [
    "##### Generate the files / lables csv file\n",
    "finally generate the csv file that holds the correct mapping of the files and thier correct labels\n",
    "this file should be used as a benchmark against files submitted"
   ]
  },
  {
   "cell_type": "code",
   "execution_count": null,
   "metadata": {
    "ExecuteTime": {
     "end_time": "2018-04-10T06:05:11.475186Z",
     "start_time": "2018-04-10T06:05:11.447426Z"
    }
   },
   "outputs": [],
   "source": [
    "header = [\"newfilename\", \"labels\"]\n",
    "data.to_csv( new_path+'/'+\"dataset.csv\", index=False, quoting=3 ,columns = header)"
   ]
  },
  {
   "cell_type": "code",
   "execution_count": null,
   "metadata": {},
   "outputs": [],
   "source": []
  }
 ],
 "metadata": {
  "kernelspec": {
   "display_name": "Python 3",
   "language": "python",
   "name": "python3"
  },
  "language_info": {
   "codemirror_mode": {
    "name": "ipython",
    "version": 3
   },
   "file_extension": ".py",
   "mimetype": "text/x-python",
   "name": "python",
   "nbconvert_exporter": "python",
   "pygments_lexer": "ipython3",
   "version": "3.6.5"
  }
 },
 "nbformat": 4,
 "nbformat_minor": 2
}
