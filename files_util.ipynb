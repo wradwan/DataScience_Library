{
 "cells": [
  {
   "cell_type": "markdown",
   "metadata": {},
   "source": [
    "# file Utils \n",
    "by Wael Radwan"
   ]
  },
  {
   "cell_type": "code",
   "execution_count": 23,
   "metadata": {
    "ExecuteTime": {
     "end_time": "2018-04-03T08:20:09.514598Z",
     "start_time": "2018-04-03T08:20:09.511419Z"
    }
   },
   "outputs": [],
   "source": [
    "import os\n",
    "import re"
   ]
  },
  {
   "cell_type": "markdown",
   "metadata": {},
   "source": [
    "##### Rename list of files in directory with seq"
   ]
  },
  {
   "cell_type": "code",
   "execution_count": 17,
   "metadata": {
    "ExecuteTime": {
     "end_time": "2018-04-03T08:11:49.605862Z",
     "start_time": "2018-04-03T08:11:49.594022Z"
    }
   },
   "outputs": [],
   "source": [
    "def rename_files_dir_to_seq(path):\n",
    "    files = os.listdir(path)\n",
    "    i = 1\n",
    "    for file in files:\n",
    "        orig_file_name = os.path.join(path, file)\n",
    "        # \n",
    "        # extract file extention\n",
    "        filename, file_extension = os.path.splitext(file)\n",
    "        # create Seq number \n",
    "        seq_num  = str(i).zfill(3)\n",
    "        new_file_name = os.path.join(path, seq_num +file_extension)\n",
    "        #print(orig_file_name)\n",
    "        #print(new_file_name)\n",
    "        os.rename(orig_file_name, new_file_name)\n",
    "        i = i+1\n",
    "    return"
   ]
  },
  {
   "cell_type": "code",
   "execution_count": 18,
   "metadata": {
    "ExecuteTime": {
     "end_time": "2018-04-03T08:11:50.229472Z",
     "start_time": "2018-04-03T08:11:50.226061Z"
    }
   },
   "outputs": [],
   "source": [
    "path = '/ds/dataset/quran/999'\n",
    "rename_files_dir_to_seq(path)"
   ]
  },
  {
   "cell_type": "markdown",
   "metadata": {},
   "source": [
    "##### list all directories and rename all files to a sequenced files"
   ]
  },
  {
   "cell_type": "code",
   "execution_count": 41,
   "metadata": {
    "ExecuteTime": {
     "end_time": "2018-04-03T08:27:51.428666Z",
     "start_time": "2018-04-03T08:27:51.229799Z"
    }
   },
   "outputs": [
    {
     "name": "stdout",
     "output_type": "stream",
     "text": [
      "/ds/dataset/quran/100\n",
      "/ds/dataset/quran/101\n",
      "/ds/dataset/quran/102\n",
      "/ds/dataset/quran/103\n",
      "/ds/dataset/quran/104\n",
      "/ds/dataset/quran/105\n",
      "/ds/dataset/quran/106\n",
      "/ds/dataset/quran/107\n",
      "/ds/dataset/quran/108\n",
      "/ds/dataset/quran/109\n",
      "/ds/dataset/quran/110\n",
      "/ds/dataset/quran/111\n",
      "/ds/dataset/quran/112\n",
      "/ds/dataset/quran/113\n",
      "/ds/dataset/quran/114\n"
     ]
    }
   ],
   "source": [
    "result = []\n",
    "myrootdir = '/ds/dataset/quran'\n",
    "reg_compile = re.compile(\"1\")\n",
    "for dirpath, dirnames, filenames in os.walk(myrootdir):\n",
    "    result = result + [dirname for dirname in dirnames if  reg_compile.match(dirname)]\n",
    "for dir in sorted(result):\n",
    "    print (myrootdir+'/'+dir)\n",
    "    rename_files_dir_to_seq(myrootdir+'/'+dir)"
   ]
  },
  {
   "cell_type": "code",
   "execution_count": null,
   "metadata": {},
   "outputs": [],
   "source": []
  }
 ],
 "metadata": {
  "kernelspec": {
   "display_name": "Python 3",
   "language": "python",
   "name": "python3"
  },
  "language_info": {
   "codemirror_mode": {
    "name": "ipython",
    "version": 3
   },
   "file_extension": ".py",
   "mimetype": "text/x-python",
   "name": "python",
   "nbconvert_exporter": "python",
   "pygments_lexer": "ipython3",
   "version": "3.6.4"
  }
 },
 "nbformat": 4,
 "nbformat_minor": 2
}
