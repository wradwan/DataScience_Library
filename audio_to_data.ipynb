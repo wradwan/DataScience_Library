{
 "cells": [
  {
   "cell_type": "markdown",
   "metadata": {},
   "source": [
    "# Audio To Data\n",
    "by Wael Radwan"
   ]
  },
  {
   "cell_type": "markdown",
   "metadata": {},
   "source": [
    "#### this piece of late "
   ]
  },
  {
   "cell_type": "code",
   "execution_count": 2,
   "metadata": {
    "ExecuteTime": {
     "end_time": "2018-05-13T09:28:27.442155Z",
     "start_time": "2018-05-13T09:28:27.216377Z"
    }
   },
   "outputs": [],
   "source": [
    "# -*- coding: utf-8 -*-\n",
    "from subprocess import Popen, PIPE, STDOUT\n",
    "import os\n",
    "from PIL import Image\n",
    "import eyed3\n",
    "\n",
    "from sliceSpectrogram import createSlicesFromSpectrograms\n",
    "from audioFilesTools import isMono, getGenre\n",
    "from config import rawDataPath\n",
    "from config import spectrogramsPath\n",
    "from config import pixelPerSecond\n",
    "\n",
    "\n",
    "#Tweakable parameters\n",
    "desiredSize = 128\n",
    "\n",
    "\n",
    "#Remove logs\n",
    "eyed3.log.setLevel(\"ERROR\")"
   ]
  },
  {
   "cell_type": "code",
   "execution_count": 7,
   "metadata": {
    "ExecuteTime": {
     "end_time": "2018-05-13T05:41:56.552621Z",
     "start_time": "2018-05-13T05:41:56.546780Z"
    }
   },
   "outputs": [],
   "source": [
    "#Create spectrogram from mp3 files\n",
    "def createSpectrogram(filename,newFilename):\n",
    "    #Create temporary mono track if needed\n",
    "    print(rawDataPath+filename)\n",
    "    if isMono(rawDataPath+filename):\n",
    "        command = \"cp '{}' '/tmp/{}.mp3'\".format(rawDataPath+filename,newFilename)\n",
    "    else:\n",
    "        command = \"sox '{}' '/tmp/{}.mp3' remix 1,2\".format(rawDataPath+filename,newFilename)\n",
    "    print(command)\n",
    "    p = Popen(command, shell=True, stdin=PIPE, stdout=PIPE, stderr=STDOUT, close_fds=True, cwd=currentPath)\n",
    "    output, errors = p.communicate()\n",
    "    if errors:\n",
    "        print (errors)\n",
    "\n",
    "    #Create spectrogram\n",
    "    filename.replace(\".mp3\",\"\")\n",
    "    command = \"sox '/tmp/{}.mp3' -n spectrogram -Y 200 -X {} -m -r -o '{}.png'\".format(newFilename,pixelPerSecond,spectrogramsPath+newFilename)\n",
    "    p = Popen(command, shell=True, stdin=PIPE, stdout=PIPE, stderr=STDOUT, close_fds=True, cwd=currentPath)\n",
    "    output, errors = p.communicate()\n",
    "    if errors:\n",
    "        print (errors)\n",
    "\n",
    "    #Remove tmp mono track\n",
    "    os.remove(\"/tmp/{}.mp3\".format(newFilename))"
   ]
  },
  {
   "cell_type": "markdown",
   "metadata": {},
   "source": [
    "### Creates .png whole spectrograms from mp3 files"
   ]
  },
  {
   "cell_type": "code",
   "execution_count": 8,
   "metadata": {
    "ExecuteTime": {
     "end_time": "2018-05-13T05:41:59.502431Z",
     "start_time": "2018-05-13T05:41:59.496705Z"
    }
   },
   "outputs": [],
   "source": [
    "def createSpectrogramsFromAudio():\n",
    "    genresID = dict()\n",
    "    files = os.listdir(rawDataPath)\n",
    "    files = [file for file in files if file.endswith(\".mp3\")]\n",
    "    nbFiles = len(files)\n",
    "\n",
    "    #Create path if not existing\n",
    "    if not os.path.exists(os.path.dirname(spectrogramsPath)):\n",
    "        try:\n",
    "            os.makedirs(os.path.dirname(spectrogramsPath))\n",
    "        except OSError as exc: # Guard against race condition\n",
    "            if exc.errno != errno.EEXIST:\n",
    "                raise\n",
    "\n",
    "    #Rename files according to genre\n",
    "    for index,filename in enumerate(files):\n",
    "        print (\"Creating spectrogram for file {}/{}...\".format(index+1,nbFiles))\n",
    "        fileGenre = getGenre(rawDataPath+filename)\n",
    "        genresID[fileGenre] = genresID[fileGenre] + 1 if fileGenre in genresID else 1\n",
    "        fileID = genresID[fileGenre]\n",
    "        newFilename = fileGenre+\"_\"+str(fileID)\n",
    "        createSpectrogram(filename,newFilename)"
   ]
  },
  {
   "cell_type": "markdown",
   "metadata": {},
   "source": [
    "### Whole pipeline .mp3 -> .png slices"
   ]
  },
  {
   "cell_type": "code",
   "execution_count": 14,
   "metadata": {
    "ExecuteTime": {
     "end_time": "2018-05-12T13:43:26.538183Z",
     "start_time": "2018-05-12T13:43:26.534718Z"
    }
   },
   "outputs": [],
   "source": [
    "def createSlicesFromAudio():\n",
    "    print (\"Creating spectrograms...\")\n",
    "    createSpectrogramsFromAudio()\n",
    "    print (\"Spectrograms created!\")\n",
    "\n",
    "    print (\"Creating slices...\")\n",
    "    createSlicesFromSpectrograms(desiredSize)\n",
    "    print (\"Slices created!\")"
   ]
  },
  {
   "cell_type": "code",
   "execution_count": 5,
   "metadata": {
    "ExecuteTime": {
     "end_time": "2018-05-13T09:29:04.877831Z",
     "start_time": "2018-05-13T09:29:04.866671Z"
    }
   },
   "outputs": [
    {
     "ename": "NameError",
     "evalue": "name 'createSpectrogram' is not defined",
     "output_type": "error",
     "traceback": [
      "\u001b[0;31m---------------------------------------------------------------------------\u001b[0m",
      "\u001b[0;31mNameError\u001b[0m                                 Traceback (most recent call last)",
      "\u001b[0;32m<ipython-input-5-bc3be598e9ca>\u001b[0m in \u001b[0;36m<module>\u001b[0;34m()\u001b[0m\n\u001b[1;32m      1\u001b[0m \u001b[0mfilename\u001b[0m\u001b[0;34m=\u001b[0m\u001b[0;34m'999_0002.mp3'\u001b[0m\u001b[0;34m\u001b[0m\u001b[0m\n\u001b[1;32m      2\u001b[0m \u001b[0mnewFilename\u001b[0m\u001b[0;34m=\u001b[0m\u001b[0;34m'999_0002.png'\u001b[0m\u001b[0;34m\u001b[0m\u001b[0m\n\u001b[0;32m----> 3\u001b[0;31m \u001b[0mcreateSpectrogram\u001b[0m\u001b[0;34m(\u001b[0m\u001b[0mfilename\u001b[0m\u001b[0;34m,\u001b[0m\u001b[0mnewFilename\u001b[0m\u001b[0;34m)\u001b[0m\u001b[0;34m\u001b[0m\u001b[0m\n\u001b[0m",
      "\u001b[0;31mNameError\u001b[0m: name 'createSpectrogram' is not defined"
     ]
    }
   ],
   "source": [
    "filename='999_0002.mp3'\n",
    "newFilename='999_0002.png'\n",
    "createSpectrogram(filename,newFilename)"
   ]
  },
  {
   "cell_type": "code",
   "execution_count": 5,
   "metadata": {
    "ExecuteTime": {
     "end_time": "2018-05-13T05:41:40.783050Z",
     "start_time": "2018-05-13T05:41:40.736563Z"
    }
   },
   "outputs": [
    {
     "name": "stdout",
     "output_type": "stream",
     "text": [
      "/ds/dataset/quran/999/999_0002.mp3\n"
     ]
    },
    {
     "data": {
      "text/plain": [
       "False"
      ]
     },
     "execution_count": 5,
     "metadata": {},
     "output_type": "execute_result"
    }
   ],
   "source": [
    "print(rawDataPath+filename)\n",
    "isMono(rawDataPath+filename)"
   ]
  },
  {
   "cell_type": "code",
   "execution_count": 6,
   "metadata": {
    "ExecuteTime": {
     "end_time": "2018-05-13T09:29:14.917003Z",
     "start_time": "2018-05-13T09:29:10.386568Z"
    }
   },
   "outputs": [
    {
     "data": {
      "image/png": "[encoded data removed]",
      "text/plain": [
       "<matplotlib.figure.Figure at 0x7fd9dd7ebef0>"
      ]
     },
     "metadata": {},
     "output_type": "display_data"
    }
   ],
   "source": [
    "import matplotlib.pyplot as plt\n",
    "from scipy import signal\n",
    "from scipy.io import wavfile\n",
    "import librosa\n",
    "\n",
    "y, sr = librosa.load(rawDataPath+filename)\n",
    "librosa.output.write_wav('file_trim_5s.wav', y, sr)\n",
    "sample_rate, samples = wavfile.read('file_trim_5s.wav')\n",
    "frequencies, times, spectrogram = signal.spectrogram(samples, sample_rate)\n",
    "\n",
    "plt.pcolormesh(times, frequencies, spectrogram)\n",
    "plt.imshow(spectrogram)\n",
    "plt.ylabel('Frequency [Hz]')\n",
    "plt.xlabel('Time [sec]')\n",
    "plt.show()"
   ]
  },
  {
   "cell_type": "code",
   "execution_count": 8,
   "metadata": {
    "ExecuteTime": {
     "end_time": "2018-05-13T10:02:39.676904Z",
     "start_time": "2018-05-13T10:02:39.657005Z"
    }
   },
   "outputs": [
    {
     "name": "stderr",
     "output_type": "stream",
     "text": [
      "SoX could not be found!\n",
      "\n",
      "    If you do not have SoX, proceed here:\n",
      "     - - - http://sox.sourceforge.net/ - - -\n",
      "\n",
      "    If you do (or think that you should) have SoX, double-check your\n",
      "    path variables.\n",
      "    \n",
      "WARNING:sox:SoX could not be found!\n",
      "\n",
      "    If you do not have SoX, proceed here:\n",
      "     - - - http://sox.sourceforge.net/ - - -\n",
      "\n",
      "    If you do (or think that you should) have SoX, double-check your\n",
      "    path variables.\n",
      "    \n"
     ]
    }
   ],
   "source": [
    "import sox"
   ]
  },
  {
   "cell_type": "code",
   "execution_count": null,
   "metadata": {},
   "outputs": [],
   "source": []
  }
 ],
 "metadata": {
  "kernelspec": {
   "display_name": "Python 3",
   "language": "python",
   "name": "python3"
  },
  "language_info": {
   "codemirror_mode": {
    "name": "ipython",
    "version": 3
   },
   "file_extension": ".py",
   "mimetype": "text/x-python",
   "name": "python",
   "nbconvert_exporter": "python",
   "pygments_lexer": "ipython3",
   "version": "3.6.5"
  }
 },
 "nbformat": 4,
 "nbformat_minor": 2
}
